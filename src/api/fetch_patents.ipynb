{
 "cells": [
  {
   "cell_type": "code",
   "execution_count": 1,
   "id": "a5dff859",
   "metadata": {},
   "outputs": [],
   "source": [
    "#import libraries\n",
    "import requests\n",
    "import pandas as pd\n",
    "import json"
   ]
  },
  {
   "cell_type": "code",
   "execution_count": 2,
   "id": "4853fa35",
   "metadata": {},
   "outputs": [],
   "source": [
    "#get api data from the US Patent API\n",
    "url_one = 'https://api.patentsview.org/patents/query?q={\"_and\":[{\"_gte\":{\"patent_date\":\"2020-01-01\"}},{\"assignee_state\":\"Fl\"}]}&f=[\"patent_number\",\"patent_year\",\"patent_date\", \"patent_title\", \"patent_kind\", \"patent_num_combined_citations\", \"inventor_state_fips\",\"inventor_county_fips\", \"assignee_type\", \"assignee_county\", \"assignee_city\",\"assignee_lastknown_city\", \"assignee_lastknown_country\", \"assignee_organization\", \"cpc_section_id\", \"cpc_subsection_id\"]&s=[{\"patent_date\":\"desc\"}]&o={\"per_page\":10000,\"page\":1}'\n",
    "response_one = requests.get(url_one)\n",
    "fl_patents_one = response_one.json()\n",
    "\n",
    "url_two = 'https://api.patentsview.org/patents/query?q={\"_and\":[{\"_gte\":{\"patent_date\":\"2020-01-01\"}},{\"assignee_state\":\"Fl\"}]}&f=[\"patent_number\",\"patent_year\",\"patent_date\", \"patent_title\", \"patent_kind\", \"patent_num_combined_citations\", \"inventor_state_fips\",\"inventor_county_fips\", \"assignee_type\", \"assignee_county\", \"assignee_city\", \"assignee_lastknown_city\", \"assignee_lastknown_country\", \"assignee_organization\", \"cpc_section_id\", \"cpc_subsection_id\"]&s=[{\"patent_date\":\"desc\"}]&o={\"per_page\":10000,\"page\":2}'\n",
    "response_two = requests.get(url_two)\n",
    "fl_patents_two = response_two.json()"
   ]
  },
  {
   "cell_type": "code",
   "execution_count": 3,
   "id": "36a1b745",
   "metadata": {},
   "outputs": [],
   "source": [
    "patent_data_one = []\n",
    "for patent in fl_patents_one[\"patents\"]:\n",
    "    base_data = {\n",
    "        \"patent_number\": patent[\"patent_number\"],\n",
    "        \"patent_title\": patent[\"patent_title\"],\n",
    "        \"patent_year\": patent[\"patent_year\"],\n",
    "        \"patent_date\": patent[\"patent_date\"],\n",
    "        \"patent_kind\": patent[\"patent_kind\"],\n",
    "        \"patent_num_combined_citations\": patent[\"patent_num_combined_citations\"]\n",
    "    }\n",
    "    \n",
    "    # expand inventors\n",
    "    for inventor in patent[\"inventors\"]:\n",
    "        inventor_data = base_data.copy()\n",
    "        inventor_data.update({\n",
    "            \"inventor_state_fips\": inventor[\"inventor_state_fips\"],\n",
    "            \"inventor_county_fips\": inventor[\"inventor_state_fips\"]\n",
    "        })\n",
    "        patent_data_one.append(inventor_data)\n",
    "        \n",
    "    # Expand assignees\n",
    "    for assignee in patent[\"assignees\"]:\n",
    "        assignee_data = base_data.copy()\n",
    "        assignee_data.update({\n",
    "            \"assignee_type\": assignee[\"assignee_type\"],\n",
    "            \"assignee_county\": assignee[\"assignee_county\"],\n",
    "            \"assignee_city\": assignee[\"assignee_city\"],\n",
    "            \"assignee_lastknown_city\": assignee[\"assignee_lastknown_city\"],\n",
    "            \"assignee_lastknown_country\": assignee[\"assignee_lastknown_country\"],\n",
    "            \"assignee_organization\": assignee[\"assignee_organization\"],\n",
    "            \"assignee_key_id\": assignee[\"assignee_key_id\"]\n",
    "        })\n",
    "        patent_data_one.append(assignee_data)\n",
    "        \n",
    "    # Expand CPCs\n",
    "    for cpc in patent[\"cpcs\"]:\n",
    "        cpc_data = base_data.copy()\n",
    "        cpc_data[\"cpc_section_id\"] = cpc[\"cpc_section_id\"],\n",
    "        cpc_data[\"cpc_subsection_id\"] = cpc[\"cpc_subsection_id\"]\n",
    "        patent_data_one.append(cpc_data)\n",
    "\n",
    "\n",
    "# Create DataFrame\n",
    "fl_patents_cleaned_one = pd.DataFrame(patent_data_one)"
   ]
  },
  {
   "cell_type": "code",
   "execution_count": 4,
   "id": "c7b72638",
   "metadata": {},
   "outputs": [],
   "source": [
    "patent_data_two = []\n",
    "for patent in fl_patents_two[\"patents\"]:\n",
    "    base_data = {\n",
    "        \"patent_number\": patent[\"patent_number\"],\n",
    "        \"patent_title\": patent[\"patent_title\"],\n",
    "        \"patent_year\": patent[\"patent_year\"],\n",
    "        \"patent_date\": patent[\"patent_date\"],\n",
    "        \"patent_kind\": patent[\"patent_kind\"],\n",
    "        \"patent_num_combined_citations\": patent[\"patent_num_combined_citations\"]\n",
    "    }\n",
    "    \n",
    "    # expand inventors\n",
    "    for inventor in patent[\"inventors\"]:\n",
    "        inventor_data = base_data.copy()\n",
    "        inventor_data.update({\n",
    "            \"inventor_state_fips\": inventor[\"inventor_state_fips\"],\n",
    "            \"inventor_county_fips\": inventor[\"inventor_state_fips\"]\n",
    "        })\n",
    "        patent_data_two.append(inventor_data)\n",
    "        \n",
    "    # Expand assignees\n",
    "    for assignee in patent[\"assignees\"]:\n",
    "        assignee_data = base_data.copy()\n",
    "        assignee_data.update({\n",
    "            \"assignee_type\": assignee[\"assignee_type\"],\n",
    "            \"assignee_county\": assignee[\"assignee_county\"],\n",
    "            \"assignee_city\": assignee[\"assignee_city\"],\n",
    "            \"assignee_lastknown_city\": assignee[\"assignee_lastknown_city\"],\n",
    "            \"assignee_lastknown_country\": assignee[\"assignee_lastknown_country\"],\n",
    "            \"assignee_organization\": assignee[\"assignee_organization\"],\n",
    "            \"assignee_key_id\": assignee[\"assignee_key_id\"]\n",
    "        })\n",
    "        patent_data_two.append(assignee_data)\n",
    "        \n",
    "    # Expand CPCs\n",
    "    for cpc in patent[\"cpcs\"]:\n",
    "        cpc_data = base_data.copy()\n",
    "        cpc_data[\"cpc_section_id\"] = cpc[\"cpc_section_id\"],\n",
    "        cpc_data[\"cpc_subsection_id\"] = cpc[\"cpc_subsection_id\"]\n",
    "        patent_data_two.append(cpc_data)\n",
    "\n",
    "\n",
    "# Create DataFrame\n",
    "fl_patents_cleaned_two = pd.DataFrame(patent_data_two)"
   ]
  },
  {
   "cell_type": "code",
   "execution_count": 5,
   "id": "101ee254",
   "metadata": {},
   "outputs": [
    {
     "name": "stdout",
     "output_type": "stream",
     "text": [
      "      patent_number       patent_title  patent_year patent_date patent_kind  \\\n",
      "49569       D872306        Door facing         2020  2020-01-07          S1   \n",
      "49570       D872375  Fire extinguisher         2020  2020-01-07          S1   \n",
      "49571       D872375  Fire extinguisher         2020  2020-01-07          S1   \n",
      "49572       D872375  Fire extinguisher         2020  2020-01-07          S1   \n",
      "49573       D872375  Fire extinguisher         2020  2020-01-07          S1   \n",
      "\n",
      "       patent_num_combined_citations inventor_state_fips inventor_county_fips  \\\n",
      "49569                             59                 NaN                  NaN   \n",
      "49570                              3                  37                   37   \n",
      "49571                              3                  37                   37   \n",
      "49572                              3                 NaN                  NaN   \n",
      "49573                              3                 NaN                  NaN   \n",
      "\n",
      "      assignee_type assignee_county     assignee_city assignee_lastknown_city  \\\n",
      "49569           NaN             NaN               NaN                     NaN   \n",
      "49570           NaN             NaN               NaN                     NaN   \n",
      "49571           NaN             NaN               NaN                     NaN   \n",
      "49572             2      Palm Beach  North Palm Beach                   Monet   \n",
      "49573           NaN             NaN               NaN                     NaN   \n",
      "\n",
      "      assignee_lastknown_country assignee_organization  assignee_key_id  \\\n",
      "49569                        NaN                   NaN              NaN   \n",
      "49570                        NaN                   NaN              NaN   \n",
      "49571                        NaN                   NaN              NaN   \n",
      "49572                         US   Carrier Corporation           2393.0   \n",
      "49573                        NaN                   NaN              NaN   \n",
      "\n",
      "      cpc_section_id cpc_subsection_id  \n",
      "49569        (None,)              None  \n",
      "49570            NaN               NaN  \n",
      "49571            NaN               NaN  \n",
      "49572            NaN               NaN  \n",
      "49573        (None,)              None  \n"
     ]
    }
   ],
   "source": [
    "print(fl_patents_cleaned_two.tail())"
   ]
  },
  {
   "cell_type": "code",
   "execution_count": 6,
   "id": "1f2fb677",
   "metadata": {},
   "outputs": [],
   "source": [
    "#remove parenthesis and commas from cpc_section_id and from cpc_subsection_id\n",
    "fl_patents_cleaned_one[\"cpc_section_id\"] = fl_patents_cleaned_one[\"cpc_section_id\"].astype(str).str.replace(r\"[(),'']\", \"\", regex=True)\n",
    "fl_patents_cleaned_one[\"cpc_subsection_id\"] = fl_patents_cleaned_one[\"cpc_subsection_id\"].astype(str).str.replace(r\"[(),'']\", \"\", regex=True)\n",
    "fl_patents_cleaned_two[\"cpc_section_id\"] = fl_patents_cleaned_two[\"cpc_section_id\"].astype(str).str.replace(r\"[(),'']\", \"\", regex=True)\n",
    "fl_patents_cleaned_two[\"cpc_subsection_id\"] = fl_patents_cleaned_two[\"cpc_subsection_id\"].astype(str).str.replace(r\"[(),'']\", \"\", regex=True)"
   ]
  },
  {
   "cell_type": "code",
   "execution_count": 7,
   "id": "fc5fb559",
   "metadata": {},
   "outputs": [
    {
     "name": "stdout",
     "output_type": "stream",
     "text": [
      "      patent_number                                       patent_title  \\\n",
      "56985      11294930  Resource scaling for distributed database serv...   \n",
      "56986      11294930  Resource scaling for distributed database serv...   \n",
      "56987      11294930  Resource scaling for distributed database serv...   \n",
      "56988      11294930  Resource scaling for distributed database serv...   \n",
      "56989      11294930  Resource scaling for distributed database serv...   \n",
      "\n",
      "       patent_year patent_date patent_kind  patent_num_combined_citations  \\\n",
      "56985         2022  2022-04-05          B2                              7   \n",
      "56986         2022  2022-04-05          B2                              7   \n",
      "56987         2022  2022-04-05          B2                              7   \n",
      "56988         2022  2022-04-05          B2                              7   \n",
      "56989         2022  2022-04-05          B2                              7   \n",
      "\n",
      "      inventor_state_fips inventor_county_fips assignee_type assignee_county  \\\n",
      "56985                None                 None           NaN             NaN   \n",
      "56986                None                 None           NaN             NaN   \n",
      "56987                None                 None           NaN             NaN   \n",
      "56988                 NaN                  NaN             2         Broward   \n",
      "56989                 NaN                  NaN           NaN             NaN   \n",
      "\n",
      "         assignee_city assignee_lastknown_city assignee_lastknown_country  \\\n",
      "56985              NaN                     NaN                        NaN   \n",
      "56986              NaN                     NaN                        NaN   \n",
      "56987              NaN                     NaN                        NaN   \n",
      "56988  Fort Lauderdale         Fort Lauderdale                         US   \n",
      "56989              NaN                     NaN                        NaN   \n",
      "\n",
      "      assignee_organization  assignee_key_id cpc_section_id cpc_subsection_id  \n",
      "56985                   NaN              NaN            nan               nan  \n",
      "56986                   NaN              NaN            nan               nan  \n",
      "56987                   NaN              NaN            nan               nan  \n",
      "56988  Citrix Systems, Inc.           1671.0            nan               nan  \n",
      "56989                   NaN              NaN              G               G06  \n"
     ]
    }
   ],
   "source": [
    "print(fl_patents_cleaned_one.tail())"
   ]
  },
  {
   "cell_type": "code",
   "execution_count": 8,
   "id": "7ff41d15",
   "metadata": {},
   "outputs": [],
   "source": [
    "#merge dataframes\n",
    "fl_patents_cleaned = pd.concat([fl_patents_cleaned_one, fl_patents_cleaned_two], axis=0)"
   ]
  },
  {
   "cell_type": "code",
   "execution_count": 27,
   "id": "3bb67c5a",
   "metadata": {},
   "outputs": [
    {
     "name": "stdout",
     "output_type": "stream",
     "text": [
      "      patent_number       patent_title  patent_year patent_date patent_kind  \\\n",
      "49569       D872306        Door facing         2020  2020-01-07          S1   \n",
      "49570       D872375  Fire extinguisher         2020  2020-01-07          S1   \n",
      "49571       D872375  Fire extinguisher         2020  2020-01-07          S1   \n",
      "49572       D872375  Fire extinguisher         2020  2020-01-07          S1   \n",
      "49573       D872375  Fire extinguisher         2020  2020-01-07          S1   \n",
      "\n",
      "       patent_num_combined_citations inventor_state_fips inventor_county_fips  \\\n",
      "49569                             59                 NaN                  NaN   \n",
      "49570                              3                  37                   37   \n",
      "49571                              3                  37                   37   \n",
      "49572                              3                 NaN                  NaN   \n",
      "49573                              3                 NaN                  NaN   \n",
      "\n",
      "      assignee_type assignee_county     assignee_city assignee_lastknown_city  \\\n",
      "49569           NaN             NaN               NaN                     NaN   \n",
      "49570           NaN             NaN               NaN                     NaN   \n",
      "49571           NaN             NaN               NaN                     NaN   \n",
      "49572             2      Palm Beach  North Palm Beach                   Monet   \n",
      "49573           NaN             NaN               NaN                     NaN   \n",
      "\n",
      "      assignee_lastknown_country assignee_organization  assignee_key_id  \\\n",
      "49569                        NaN                   NaN              NaN   \n",
      "49570                        NaN                   NaN              NaN   \n",
      "49571                        NaN                   NaN              NaN   \n",
      "49572                         US   Carrier Corporation           2393.0   \n",
      "49573                        NaN                   NaN              NaN   \n",
      "\n",
      "      cpc_section_id cpc_subsection_id  \n",
      "49569           None              None  \n",
      "49570            nan               nan  \n",
      "49571            nan               nan  \n",
      "49572            nan               nan  \n",
      "49573           None              None  \n"
     ]
    }
   ],
   "source": [
    "print(fl_patents_cleaned.tail())"
   ]
  },
  {
   "cell_type": "code",
   "execution_count": 28,
   "id": "a55295b8",
   "metadata": {},
   "outputs": [
    {
     "ename": "OSError",
     "evalue": "[Errno 22] Invalid argument: 'data\\x0cl_patents_cleaned.csv'",
     "output_type": "error",
     "traceback": [
      "\u001b[1;31m---------------------------------------------------------------------------\u001b[0m",
      "\u001b[1;31mOSError\u001b[0m                                   Traceback (most recent call last)",
      "Cell \u001b[1;32mIn[28], line 1\u001b[0m\n\u001b[1;32m----> 1\u001b[0m fl_patents_cleaned\u001b[38;5;241m.\u001b[39mto_csv(\u001b[38;5;124m'\u001b[39m\u001b[38;5;124mdata\u001b[39m\u001b[38;5;130;01m\\f\u001b[39;00m\u001b[38;5;124ml_patents_cleaned.csv\u001b[39m\u001b[38;5;124m'\u001b[39m)\n",
      "File \u001b[1;32m~\\anaconda3\\Lib\\site-packages\\pandas\\core\\generic.py:3772\u001b[0m, in \u001b[0;36mNDFrame.to_csv\u001b[1;34m(self, path_or_buf, sep, na_rep, float_format, columns, header, index, index_label, mode, encoding, compression, quoting, quotechar, lineterminator, chunksize, date_format, doublequote, escapechar, decimal, errors, storage_options)\u001b[0m\n\u001b[0;32m   3761\u001b[0m df \u001b[38;5;241m=\u001b[39m \u001b[38;5;28mself\u001b[39m \u001b[38;5;28;01mif\u001b[39;00m \u001b[38;5;28misinstance\u001b[39m(\u001b[38;5;28mself\u001b[39m, ABCDataFrame) \u001b[38;5;28;01melse\u001b[39;00m \u001b[38;5;28mself\u001b[39m\u001b[38;5;241m.\u001b[39mto_frame()\n\u001b[0;32m   3763\u001b[0m formatter \u001b[38;5;241m=\u001b[39m DataFrameFormatter(\n\u001b[0;32m   3764\u001b[0m     frame\u001b[38;5;241m=\u001b[39mdf,\n\u001b[0;32m   3765\u001b[0m     header\u001b[38;5;241m=\u001b[39mheader,\n\u001b[1;32m   (...)\u001b[0m\n\u001b[0;32m   3769\u001b[0m     decimal\u001b[38;5;241m=\u001b[39mdecimal,\n\u001b[0;32m   3770\u001b[0m )\n\u001b[1;32m-> 3772\u001b[0m \u001b[38;5;28;01mreturn\u001b[39;00m DataFrameRenderer(formatter)\u001b[38;5;241m.\u001b[39mto_csv(\n\u001b[0;32m   3773\u001b[0m     path_or_buf,\n\u001b[0;32m   3774\u001b[0m     lineterminator\u001b[38;5;241m=\u001b[39mlineterminator,\n\u001b[0;32m   3775\u001b[0m     sep\u001b[38;5;241m=\u001b[39msep,\n\u001b[0;32m   3776\u001b[0m     encoding\u001b[38;5;241m=\u001b[39mencoding,\n\u001b[0;32m   3777\u001b[0m     errors\u001b[38;5;241m=\u001b[39merrors,\n\u001b[0;32m   3778\u001b[0m     compression\u001b[38;5;241m=\u001b[39mcompression,\n\u001b[0;32m   3779\u001b[0m     quoting\u001b[38;5;241m=\u001b[39mquoting,\n\u001b[0;32m   3780\u001b[0m     columns\u001b[38;5;241m=\u001b[39mcolumns,\n\u001b[0;32m   3781\u001b[0m     index_label\u001b[38;5;241m=\u001b[39mindex_label,\n\u001b[0;32m   3782\u001b[0m     mode\u001b[38;5;241m=\u001b[39mmode,\n\u001b[0;32m   3783\u001b[0m     chunksize\u001b[38;5;241m=\u001b[39mchunksize,\n\u001b[0;32m   3784\u001b[0m     quotechar\u001b[38;5;241m=\u001b[39mquotechar,\n\u001b[0;32m   3785\u001b[0m     date_format\u001b[38;5;241m=\u001b[39mdate_format,\n\u001b[0;32m   3786\u001b[0m     doublequote\u001b[38;5;241m=\u001b[39mdoublequote,\n\u001b[0;32m   3787\u001b[0m     escapechar\u001b[38;5;241m=\u001b[39mescapechar,\n\u001b[0;32m   3788\u001b[0m     storage_options\u001b[38;5;241m=\u001b[39mstorage_options,\n\u001b[0;32m   3789\u001b[0m )\n",
      "File \u001b[1;32m~\\anaconda3\\Lib\\site-packages\\pandas\\io\\formats\\format.py:1186\u001b[0m, in \u001b[0;36mDataFrameRenderer.to_csv\u001b[1;34m(self, path_or_buf, encoding, sep, columns, index_label, mode, compression, quoting, quotechar, lineterminator, chunksize, date_format, doublequote, escapechar, errors, storage_options)\u001b[0m\n\u001b[0;32m   1165\u001b[0m     created_buffer \u001b[38;5;241m=\u001b[39m \u001b[38;5;28;01mFalse\u001b[39;00m\n\u001b[0;32m   1167\u001b[0m csv_formatter \u001b[38;5;241m=\u001b[39m CSVFormatter(\n\u001b[0;32m   1168\u001b[0m     path_or_buf\u001b[38;5;241m=\u001b[39mpath_or_buf,\n\u001b[0;32m   1169\u001b[0m     lineterminator\u001b[38;5;241m=\u001b[39mlineterminator,\n\u001b[1;32m   (...)\u001b[0m\n\u001b[0;32m   1184\u001b[0m     formatter\u001b[38;5;241m=\u001b[39m\u001b[38;5;28mself\u001b[39m\u001b[38;5;241m.\u001b[39mfmt,\n\u001b[0;32m   1185\u001b[0m )\n\u001b[1;32m-> 1186\u001b[0m csv_formatter\u001b[38;5;241m.\u001b[39msave()\n\u001b[0;32m   1188\u001b[0m \u001b[38;5;28;01mif\u001b[39;00m created_buffer:\n\u001b[0;32m   1189\u001b[0m     \u001b[38;5;28;01massert\u001b[39;00m \u001b[38;5;28misinstance\u001b[39m(path_or_buf, StringIO)\n",
      "File \u001b[1;32m~\\anaconda3\\Lib\\site-packages\\pandas\\io\\formats\\csvs.py:240\u001b[0m, in \u001b[0;36mCSVFormatter.save\u001b[1;34m(self)\u001b[0m\n\u001b[0;32m    236\u001b[0m \u001b[38;5;250m\u001b[39m\u001b[38;5;124;03m\"\"\"\u001b[39;00m\n\u001b[0;32m    237\u001b[0m \u001b[38;5;124;03mCreate the writer & save.\u001b[39;00m\n\u001b[0;32m    238\u001b[0m \u001b[38;5;124;03m\"\"\"\u001b[39;00m\n\u001b[0;32m    239\u001b[0m \u001b[38;5;66;03m# apply compression and byte/text conversion\u001b[39;00m\n\u001b[1;32m--> 240\u001b[0m \u001b[38;5;28;01mwith\u001b[39;00m get_handle(\n\u001b[0;32m    241\u001b[0m     \u001b[38;5;28mself\u001b[39m\u001b[38;5;241m.\u001b[39mfilepath_or_buffer,\n\u001b[0;32m    242\u001b[0m     \u001b[38;5;28mself\u001b[39m\u001b[38;5;241m.\u001b[39mmode,\n\u001b[0;32m    243\u001b[0m     encoding\u001b[38;5;241m=\u001b[39m\u001b[38;5;28mself\u001b[39m\u001b[38;5;241m.\u001b[39mencoding,\n\u001b[0;32m    244\u001b[0m     errors\u001b[38;5;241m=\u001b[39m\u001b[38;5;28mself\u001b[39m\u001b[38;5;241m.\u001b[39merrors,\n\u001b[0;32m    245\u001b[0m     compression\u001b[38;5;241m=\u001b[39m\u001b[38;5;28mself\u001b[39m\u001b[38;5;241m.\u001b[39mcompression,\n\u001b[0;32m    246\u001b[0m     storage_options\u001b[38;5;241m=\u001b[39m\u001b[38;5;28mself\u001b[39m\u001b[38;5;241m.\u001b[39mstorage_options,\n\u001b[0;32m    247\u001b[0m ) \u001b[38;5;28;01mas\u001b[39;00m handles:\n\u001b[0;32m    248\u001b[0m     \u001b[38;5;66;03m# Note: self.encoding is irrelevant here\u001b[39;00m\n\u001b[0;32m    249\u001b[0m     \u001b[38;5;28mself\u001b[39m\u001b[38;5;241m.\u001b[39mwriter \u001b[38;5;241m=\u001b[39m csvlib\u001b[38;5;241m.\u001b[39mwriter(\n\u001b[0;32m    250\u001b[0m         handles\u001b[38;5;241m.\u001b[39mhandle,\n\u001b[0;32m    251\u001b[0m         lineterminator\u001b[38;5;241m=\u001b[39m\u001b[38;5;28mself\u001b[39m\u001b[38;5;241m.\u001b[39mlineterminator,\n\u001b[1;32m   (...)\u001b[0m\n\u001b[0;32m    256\u001b[0m         quotechar\u001b[38;5;241m=\u001b[39m\u001b[38;5;28mself\u001b[39m\u001b[38;5;241m.\u001b[39mquotechar,\n\u001b[0;32m    257\u001b[0m     )\n\u001b[0;32m    259\u001b[0m     \u001b[38;5;28mself\u001b[39m\u001b[38;5;241m.\u001b[39m_save()\n",
      "File \u001b[1;32m~\\anaconda3\\Lib\\site-packages\\pandas\\io\\common.py:859\u001b[0m, in \u001b[0;36mget_handle\u001b[1;34m(path_or_buf, mode, encoding, compression, memory_map, is_text, errors, storage_options)\u001b[0m\n\u001b[0;32m    854\u001b[0m \u001b[38;5;28;01melif\u001b[39;00m \u001b[38;5;28misinstance\u001b[39m(handle, \u001b[38;5;28mstr\u001b[39m):\n\u001b[0;32m    855\u001b[0m     \u001b[38;5;66;03m# Check whether the filename is to be opened in binary mode.\u001b[39;00m\n\u001b[0;32m    856\u001b[0m     \u001b[38;5;66;03m# Binary mode does not support 'encoding' and 'newline'.\u001b[39;00m\n\u001b[0;32m    857\u001b[0m     \u001b[38;5;28;01mif\u001b[39;00m ioargs\u001b[38;5;241m.\u001b[39mencoding \u001b[38;5;129;01mand\u001b[39;00m \u001b[38;5;124m\"\u001b[39m\u001b[38;5;124mb\u001b[39m\u001b[38;5;124m\"\u001b[39m \u001b[38;5;129;01mnot\u001b[39;00m \u001b[38;5;129;01min\u001b[39;00m ioargs\u001b[38;5;241m.\u001b[39mmode:\n\u001b[0;32m    858\u001b[0m         \u001b[38;5;66;03m# Encoding\u001b[39;00m\n\u001b[1;32m--> 859\u001b[0m         handle \u001b[38;5;241m=\u001b[39m \u001b[38;5;28mopen\u001b[39m(\n\u001b[0;32m    860\u001b[0m             handle,\n\u001b[0;32m    861\u001b[0m             ioargs\u001b[38;5;241m.\u001b[39mmode,\n\u001b[0;32m    862\u001b[0m             encoding\u001b[38;5;241m=\u001b[39mioargs\u001b[38;5;241m.\u001b[39mencoding,\n\u001b[0;32m    863\u001b[0m             errors\u001b[38;5;241m=\u001b[39merrors,\n\u001b[0;32m    864\u001b[0m             newline\u001b[38;5;241m=\u001b[39m\u001b[38;5;124m\"\u001b[39m\u001b[38;5;124m\"\u001b[39m,\n\u001b[0;32m    865\u001b[0m         )\n\u001b[0;32m    866\u001b[0m     \u001b[38;5;28;01melse\u001b[39;00m:\n\u001b[0;32m    867\u001b[0m         \u001b[38;5;66;03m# Binary mode\u001b[39;00m\n\u001b[0;32m    868\u001b[0m         handle \u001b[38;5;241m=\u001b[39m \u001b[38;5;28mopen\u001b[39m(handle, ioargs\u001b[38;5;241m.\u001b[39mmode)\n",
      "\u001b[1;31mOSError\u001b[0m: [Errno 22] Invalid argument: 'data\\x0cl_patents_cleaned.csv'"
     ]
    }
   ],
   "source": [
    "fl_patents_cleaned.to_csv('data\\fl_patents_cleaned.csv')"
   ]
  },
  {
   "cell_type": "code",
   "execution_count": null,
   "id": "ce2be11e",
   "metadata": {},
   "outputs": [],
   "source": []
  }
 ],
 "metadata": {
  "kernelspec": {
   "display_name": "Python 3 (ipykernel)",
   "language": "python",
   "name": "python3"
  },
  "language_info": {
   "codemirror_mode": {
    "name": "ipython",
    "version": 3
   },
   "file_extension": ".py",
   "mimetype": "text/x-python",
   "name": "python",
   "nbconvert_exporter": "python",
   "pygments_lexer": "ipython3",
   "version": "3.11.5"
  }
 },
 "nbformat": 4,
 "nbformat_minor": 5
}
